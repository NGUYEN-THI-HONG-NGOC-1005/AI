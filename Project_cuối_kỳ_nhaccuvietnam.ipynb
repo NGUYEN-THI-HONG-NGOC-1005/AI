{
  "nbformat": 4,
  "nbformat_minor": 0,
  "metadata": {
    "colab": {
      "provenance": [],
      "include_colab_link": true
    },
    "kernelspec": {
      "name": "python3",
      "display_name": "Python 3"
    },
    "language_info": {
      "name": "python"
    },
    "accelerator": "GPU",
    "gpuClass": "standard"
  },
  "cells": [
    {
      "cell_type": "markdown",
      "metadata": {
        "id": "view-in-github",
        "colab_type": "text"
      },
      "source": [
        "<a href=\"https://colab.research.google.com/github/NGUYEN-THI-HONG-NGOC-1005/AI/blob/main/Project_cu%E1%BB%91i_k%E1%BB%B3_nhaccuvietnam.ipynb\" target=\"_parent\"><img src=\"https://colab.research.google.com/assets/colab-badge.svg\" alt=\"Open In Colab\"/></a>"
      ]
    },
    {
      "cell_type": "code",
      "source": [
        "!pip install Pillow"
      ],
      "metadata": {
        "colab": {
          "base_uri": "https://localhost:8080/"
        },
        "id": "k8f92CQ70Te8",
        "outputId": "907322eb-3c75-4208-fcb3-249a8d3a1e35"
      },
      "execution_count": 1,
      "outputs": [
        {
          "output_type": "stream",
          "name": "stdout",
          "text": [
            "Looking in indexes: https://pypi.org/simple, https://us-python.pkg.dev/colab-wheels/public/simple/\n",
            "Requirement already satisfied: Pillow in /usr/local/lib/python3.8/dist-packages (7.1.2)\n"
          ]
        }
      ]
    },
    {
      "cell_type": "code",
      "execution_count": 2,
      "metadata": {
        "id": "O3Bq_hWTVC87"
      },
      "outputs": [],
      "source": [
        "\n",
        "from sklearn.model_selection import train_test_split\n",
        "import matplotlib.pyplot as plt\n",
        "import os\n",
        "import numpy as np\n",
        "import tensorflow as tf\n",
        "from keras.utils import np_utils\n",
        "from keras.models import Sequential\n",
        "from keras.layers import Dense, Activation, Dropout, Conv2D, MaxPooling2D, Flatten\n",
        "from keras.optimizers import SGD, RMSprop\n",
        "from keras.callbacks import EarlyStopping, ModelCheckpoint\n",
        "from sklearn.utils import validation \n",
        "from sklearn import preprocessing\n",
        "from keras.utils import to_categorical\n",
        "from keras.models import load_model\n",
        "from keras.utils import load_img, img_to_array\n",
        "from keras.preprocessing.image import ImageDataGenerator"
      ]
    },
    {
      "cell_type": "code",
      "source": [
        "from google.colab import drive\n",
        "drive.mount('/content/drive')"
      ],
      "metadata": {
        "colab": {
          "base_uri": "https://localhost:8080/"
        },
        "id": "JUbxAyudYOJr",
        "outputId": "d6f27203-74ac-45a7-d7c9-ff8cf2404c5f"
      },
      "execution_count": 3,
      "outputs": [
        {
          "output_type": "stream",
          "name": "stdout",
          "text": [
            "Mounted at /content/drive\n"
          ]
        }
      ]
    },
    {
      "cell_type": "code",
      "source": [
        "train_datagen = ImageDataGenerator(rescale=1./255, shear_range=0.2, zoom_range=0.2, horizontal_flip=True)\n",
        "val_datagen = ImageDataGenerator(rescale=1./255)"
      ],
      "metadata": {
        "id": "L6kfL39nYfuF"
      },
      "execution_count": 4,
      "outputs": []
    },
    {
      "cell_type": "code",
      "source": [
        "training_set = train_datagen.flow_from_directory('/content/drive/MyDrive/Colab Notebooks/project cuối kỳ/Train', target_size=(150,150), batch_size=32, class_mode='categorical')"
      ],
      "metadata": {
        "colab": {
          "base_uri": "https://localhost:8080/"
        },
        "id": "W0Fo0GfMYll2",
        "outputId": "ab80addd-0c83-405f-9480-e3218790b732"
      },
      "execution_count": 5,
      "outputs": [
        {
          "output_type": "stream",
          "name": "stdout",
          "text": [
            "Found 34 images belonging to 7 classes.\n"
          ]
        }
      ]
    },
    {
      "cell_type": "code",
      "source": [
        "val_set = val_datagen.flow_from_directory('/content/drive/MyDrive/Colab Notebooks/project cuối kỳ/Val', target_size=(150,150), batch_size=32, class_mode='categorical')"
      ],
      "metadata": {
        "colab": {
          "base_uri": "https://localhost:8080/"
        },
        "id": "arace0M5Y3Aw",
        "outputId": "bd172880-bcf2-4e43-ff51-658a437f8d91"
      },
      "execution_count": 6,
      "outputs": [
        {
          "output_type": "stream",
          "name": "stdout",
          "text": [
            "Found 4 images belonging to 7 classes.\n"
          ]
        }
      ]
    },
    {
      "cell_type": "code",
      "source": [
        "training_set.class_indices"
      ],
      "metadata": {
        "colab": {
          "base_uri": "https://localhost:8080/"
        },
        "id": "JRyJSgEkZBCN",
        "outputId": "56706214-b2eb-4ecf-80b4-4ccf0a7a1012"
      },
      "execution_count": 7,
      "outputs": [
        {
          "output_type": "execute_result",
          "data": {
            "text/plain": [
              "{'Sáo trúc': 0,\n",
              " \"Đàn T'Rưng\": 1,\n",
              " 'Đàn bầu': 2,\n",
              " 'Đàn nguyệt': 3,\n",
              " 'Đàn nhị': 4,\n",
              " 'Đàn tranh': 5,\n",
              " 'Đàn tỳ  bà': 6}"
            ]
          },
          "metadata": {},
          "execution_count": 7
        }
      ]
    },
    {
      "cell_type": "code",
      "source": [
        "val_set.class_indices"
      ],
      "metadata": {
        "colab": {
          "base_uri": "https://localhost:8080/"
        },
        "id": "JelMshtDZGBv",
        "outputId": "86375af7-c919-4b33-e89e-e8dc884c1392"
      },
      "execution_count": 8,
      "outputs": [
        {
          "output_type": "execute_result",
          "data": {
            "text/plain": [
              "{'Sáo trúc': 0,\n",
              " \"Đàn T'Rưng\": 1,\n",
              " 'Đàn bầu': 2,\n",
              " 'Đàn nguyệt': 3,\n",
              " 'Đàn nhị': 4,\n",
              " 'Đàn tranh': 5,\n",
              " 'Đàn tỳ bà': 6}"
            ]
          },
          "metadata": {},
          "execution_count": 8
        }
      ]
    },
    {
      "cell_type": "code",
      "source": [
        "# Tạo ra mạng CNN để train mô hình\n",
        "model=Sequential()\n",
        "\n",
        "model.add(Conv2D(32,(3,3), activation='relu', kernel_initializer='he_uniform', padding='same',input_shape=(150,150,3))) \n",
        "model.add(Conv2D(32,(3,3), activation='relu', kernel_initializer='he_uniform', padding='same'))\n",
        "model.add(MaxPooling2D(2,2))\n",
        "model.add(Conv2D(64,(3,3), activation='relu', kernel_initializer='he_uniform', padding='same',input_shape=(150,150,3))) \n",
        "model.add(Conv2D(64,(3,3), activation='relu', kernel_initializer='he_uniform', padding='same'))\n",
        "model.add(MaxPooling2D(2,2))\n",
        "model.add(Conv2D(128,(3,3), activation='relu', kernel_initializer='he_uniform', padding='same',input_shape=(150,150,3))) \n",
        "model.add(Conv2D(128,(3,3), activation='relu', kernel_initializer='he_uniform', padding='same'))\n",
        "model.add(MaxPooling2D(2,2))\n",
        "model.add(Flatten())\n",
        "model.add(Dense(128,activation='relu',kernel_initializer='he_uniform'))\n",
        "model.add(Dropout(0.2))\n",
        "model.add(Dense(7,activation='softmax'))\n",
        "model.summary()"
      ],
      "metadata": {
        "colab": {
          "base_uri": "https://localhost:8080/"
        },
        "id": "-EX5av2Ra1BM",
        "outputId": "4ea8f13d-9eb5-49e6-fe80-04da21cc9fd6"
      },
      "execution_count": 9,
      "outputs": [
        {
          "output_type": "stream",
          "name": "stdout",
          "text": [
            "Model: \"sequential\"\n",
            "_________________________________________________________________\n",
            " Layer (type)                Output Shape              Param #   \n",
            "=================================================================\n",
            " conv2d (Conv2D)             (None, 150, 150, 32)      896       \n",
            "                                                                 \n",
            " conv2d_1 (Conv2D)           (None, 150, 150, 32)      9248      \n",
            "                                                                 \n",
            " max_pooling2d (MaxPooling2D  (None, 75, 75, 32)       0         \n",
            " )                                                               \n",
            "                                                                 \n",
            " conv2d_2 (Conv2D)           (None, 75, 75, 64)        18496     \n",
            "                                                                 \n",
            " conv2d_3 (Conv2D)           (None, 75, 75, 64)        36928     \n",
            "                                                                 \n",
            " max_pooling2d_1 (MaxPooling  (None, 37, 37, 64)       0         \n",
            " 2D)                                                             \n",
            "                                                                 \n",
            " conv2d_4 (Conv2D)           (None, 37, 37, 128)       73856     \n",
            "                                                                 \n",
            " conv2d_5 (Conv2D)           (None, 37, 37, 128)       147584    \n",
            "                                                                 \n",
            " max_pooling2d_2 (MaxPooling  (None, 18, 18, 128)      0         \n",
            " 2D)                                                             \n",
            "                                                                 \n",
            " flatten (Flatten)           (None, 41472)             0         \n",
            "                                                                 \n",
            " dense (Dense)               (None, 128)               5308544   \n",
            "                                                                 \n",
            " dropout (Dropout)           (None, 128)               0         \n",
            "                                                                 \n",
            " dense_1 (Dense)             (None, 7)                 903       \n",
            "                                                                 \n",
            "=================================================================\n",
            "Total params: 5,596,455\n",
            "Trainable params: 5,596,455\n",
            "Non-trainable params: 0\n",
            "_________________________________________________________________\n"
          ]
        }
      ]
    },
    {
      "cell_type": "code",
      "source": [
        "model.compile(optimizer='adam',loss='categorical_crossentropy',metrics=['accuracy'])\n",
        "\n",
        "history=model.fit(training_set,epochs=100,batch_size=128,verbose=1, validation_data=val_set, callbacks=[EarlyStopping(monitor='val_loss', patience=30)])"
      ],
      "metadata": {
        "colab": {
          "base_uri": "https://localhost:8080/"
        },
        "id": "8UHFyxn2a4Qj",
        "outputId": "bd45ff29-3e30-44c3-9d58-d378cddc68b3"
      },
      "execution_count": 10,
      "outputs": [
        {
          "output_type": "stream",
          "name": "stdout",
          "text": [
            "Epoch 1/100\n",
            "2/2 [==============================] - 14s 3s/step - loss: 6.4484 - accuracy: 0.3529 - val_loss: 3.6091 - val_accuracy: 0.5000\n",
            "Epoch 2/100\n",
            "2/2 [==============================] - 1s 97ms/step - loss: 4.6918 - accuracy: 0.3235 - val_loss: 2.2447 - val_accuracy: 0.2500\n",
            "Epoch 3/100\n",
            "2/2 [==============================] - 1s 93ms/step - loss: 1.8359 - accuracy: 0.2059 - val_loss: 2.1362 - val_accuracy: 0.2500\n",
            "Epoch 4/100\n",
            "2/2 [==============================] - 1s 96ms/step - loss: 1.7938 - accuracy: 0.3235 - val_loss: 1.5526 - val_accuracy: 0.2500\n",
            "Epoch 5/100\n",
            "2/2 [==============================] - 1s 690ms/step - loss: 1.6379 - accuracy: 0.3235 - val_loss: 1.4320 - val_accuracy: 0.2500\n",
            "Epoch 6/100\n",
            "2/2 [==============================] - 1s 102ms/step - loss: 1.6211 - accuracy: 0.4118 - val_loss: 1.6176 - val_accuracy: 0.2500\n",
            "Epoch 7/100\n",
            "2/2 [==============================] - 1s 148ms/step - loss: 1.5131 - accuracy: 0.3824 - val_loss: 1.7984 - val_accuracy: 0.2500\n",
            "Epoch 8/100\n",
            "2/2 [==============================] - 1s 705ms/step - loss: 1.5834 - accuracy: 0.4706 - val_loss: 1.6692 - val_accuracy: 0.2500\n",
            "Epoch 9/100\n",
            "2/2 [==============================] - 1s 692ms/step - loss: 1.5058 - accuracy: 0.3824 - val_loss: 1.8154 - val_accuracy: 0.2500\n",
            "Epoch 10/100\n",
            "2/2 [==============================] - 1s 95ms/step - loss: 1.5275 - accuracy: 0.4118 - val_loss: 1.4843 - val_accuracy: 0.2500\n",
            "Epoch 11/100\n",
            "2/2 [==============================] - 1s 718ms/step - loss: 1.5112 - accuracy: 0.3235 - val_loss: 1.4547 - val_accuracy: 0.5000\n",
            "Epoch 12/100\n",
            "2/2 [==============================] - 1s 726ms/step - loss: 1.4789 - accuracy: 0.3235 - val_loss: 1.2971 - val_accuracy: 0.5000\n",
            "Epoch 13/100\n",
            "2/2 [==============================] - 1s 101ms/step - loss: 1.4812 - accuracy: 0.3824 - val_loss: 1.2099 - val_accuracy: 0.5000\n",
            "Epoch 14/100\n",
            "2/2 [==============================] - 1s 715ms/step - loss: 1.4165 - accuracy: 0.3529 - val_loss: 1.2177 - val_accuracy: 0.7500\n",
            "Epoch 15/100\n",
            "2/2 [==============================] - 1s 701ms/step - loss: 1.3683 - accuracy: 0.3824 - val_loss: 1.1362 - val_accuracy: 0.5000\n",
            "Epoch 16/100\n",
            "2/2 [==============================] - 1s 684ms/step - loss: 1.3571 - accuracy: 0.4412 - val_loss: 1.2832 - val_accuracy: 0.2500\n",
            "Epoch 17/100\n",
            "2/2 [==============================] - 1s 96ms/step - loss: 1.4724 - accuracy: 0.4118 - val_loss: 1.4013 - val_accuracy: 0.2500\n",
            "Epoch 18/100\n",
            "2/2 [==============================] - 1s 97ms/step - loss: 1.3210 - accuracy: 0.3824 - val_loss: 1.0413 - val_accuracy: 0.5000\n",
            "Epoch 19/100\n",
            "2/2 [==============================] - 1s 693ms/step - loss: 1.1178 - accuracy: 0.4706 - val_loss: 1.0495 - val_accuracy: 0.7500\n",
            "Epoch 20/100\n",
            "2/2 [==============================] - 1s 681ms/step - loss: 1.1257 - accuracy: 0.6765 - val_loss: 1.0619 - val_accuracy: 0.2500\n",
            "Epoch 21/100\n",
            "2/2 [==============================] - 1s 699ms/step - loss: 0.9195 - accuracy: 0.6471 - val_loss: 1.4583 - val_accuracy: 0.5000\n",
            "Epoch 22/100\n",
            "2/2 [==============================] - 1s 94ms/step - loss: 0.8867 - accuracy: 0.6176 - val_loss: 2.0002 - val_accuracy: 0.5000\n",
            "Epoch 23/100\n",
            "2/2 [==============================] - 1s 126ms/step - loss: 1.1994 - accuracy: 0.7059 - val_loss: 0.3803 - val_accuracy: 0.7500\n",
            "Epoch 24/100\n",
            "2/2 [==============================] - 1s 98ms/step - loss: 0.8208 - accuracy: 0.6765 - val_loss: 0.3097 - val_accuracy: 1.0000\n",
            "Epoch 25/100\n",
            "2/2 [==============================] - 1s 93ms/step - loss: 0.7916 - accuracy: 0.7353 - val_loss: 0.4092 - val_accuracy: 1.0000\n",
            "Epoch 26/100\n",
            "2/2 [==============================] - 1s 666ms/step - loss: 1.1296 - accuracy: 0.5882 - val_loss: 0.4091 - val_accuracy: 1.0000\n",
            "Epoch 27/100\n",
            "2/2 [==============================] - 1s 106ms/step - loss: 0.7960 - accuracy: 0.7353 - val_loss: 0.3638 - val_accuracy: 1.0000\n",
            "Epoch 28/100\n",
            "2/2 [==============================] - 1s 91ms/step - loss: 0.6174 - accuracy: 0.7059 - val_loss: 0.2314 - val_accuracy: 1.0000\n",
            "Epoch 29/100\n",
            "2/2 [==============================] - 1s 648ms/step - loss: 0.8303 - accuracy: 0.8235 - val_loss: 0.6795 - val_accuracy: 0.7500\n",
            "Epoch 30/100\n",
            "2/2 [==============================] - 1s 95ms/step - loss: 0.5156 - accuracy: 0.8235 - val_loss: 0.5768 - val_accuracy: 0.7500\n",
            "Epoch 31/100\n",
            "2/2 [==============================] - 1s 662ms/step - loss: 1.1508 - accuracy: 0.6176 - val_loss: 0.2014 - val_accuracy: 1.0000\n",
            "Epoch 32/100\n",
            "2/2 [==============================] - 1s 646ms/step - loss: 1.0262 - accuracy: 0.5882 - val_loss: 0.6137 - val_accuracy: 0.7500\n",
            "Epoch 33/100\n",
            "2/2 [==============================] - 1s 107ms/step - loss: 1.2893 - accuracy: 0.5000 - val_loss: 0.9316 - val_accuracy: 0.7500\n",
            "Epoch 34/100\n",
            "2/2 [==============================] - 1s 98ms/step - loss: 1.3591 - accuracy: 0.4412 - val_loss: 1.1594 - val_accuracy: 0.7500\n",
            "Epoch 35/100\n",
            "2/2 [==============================] - 1s 714ms/step - loss: 1.4718 - accuracy: 0.3824 - val_loss: 1.2771 - val_accuracy: 0.2500\n",
            "Epoch 36/100\n",
            "2/2 [==============================] - 1s 708ms/step - loss: 1.5140 - accuracy: 0.3824 - val_loss: 1.4115 - val_accuracy: 0.2500\n",
            "Epoch 37/100\n",
            "2/2 [==============================] - 1s 89ms/step - loss: 1.3750 - accuracy: 0.2941 - val_loss: 1.4836 - val_accuracy: 0.2500\n",
            "Epoch 38/100\n",
            "2/2 [==============================] - 1s 674ms/step - loss: 1.3785 - accuracy: 0.4118 - val_loss: 1.4411 - val_accuracy: 0.2500\n",
            "Epoch 39/100\n",
            "2/2 [==============================] - 1s 965ms/step - loss: 1.2845 - accuracy: 0.5000 - val_loss: 1.3292 - val_accuracy: 0.2500\n",
            "Epoch 40/100\n",
            "2/2 [==============================] - 1s 1s/step - loss: 1.2156 - accuracy: 0.5000 - val_loss: 1.1172 - val_accuracy: 0.5000\n",
            "Epoch 41/100\n",
            "2/2 [==============================] - 1s 114ms/step - loss: 1.0363 - accuracy: 0.5294 - val_loss: 1.0185 - val_accuracy: 0.5000\n",
            "Epoch 42/100\n",
            "2/2 [==============================] - 1s 94ms/step - loss: 0.9531 - accuracy: 0.5000 - val_loss: 4.1267 - val_accuracy: 0.5000\n",
            "Epoch 43/100\n",
            "2/2 [==============================] - 1s 95ms/step - loss: 2.4046 - accuracy: 0.5588 - val_loss: 0.6019 - val_accuracy: 0.7500\n",
            "Epoch 44/100\n",
            "2/2 [==============================] - 1s 101ms/step - loss: 0.7343 - accuracy: 0.7059 - val_loss: 0.7204 - val_accuracy: 0.5000\n",
            "Epoch 45/100\n",
            "2/2 [==============================] - 1s 94ms/step - loss: 0.8660 - accuracy: 0.6765 - val_loss: 0.7774 - val_accuracy: 0.5000\n",
            "Epoch 46/100\n",
            "2/2 [==============================] - 1s 680ms/step - loss: 1.0964 - accuracy: 0.5000 - val_loss: 0.8042 - val_accuracy: 0.5000\n",
            "Epoch 47/100\n",
            "2/2 [==============================] - 1s 672ms/step - loss: 0.9774 - accuracy: 0.6471 - val_loss: 0.8693 - val_accuracy: 0.5000\n",
            "Epoch 48/100\n",
            "2/2 [==============================] - 1s 95ms/step - loss: 0.9711 - accuracy: 0.6471 - val_loss: 0.8188 - val_accuracy: 0.5000\n",
            "Epoch 49/100\n",
            "2/2 [==============================] - 1s 93ms/step - loss: 0.9050 - accuracy: 0.7059 - val_loss: 0.9051 - val_accuracy: 0.7500\n",
            "Epoch 50/100\n",
            "2/2 [==============================] - 1s 690ms/step - loss: 0.8794 - accuracy: 0.6765 - val_loss: 0.9291 - val_accuracy: 0.5000\n",
            "Epoch 51/100\n",
            "2/2 [==============================] - 1s 93ms/step - loss: 0.9412 - accuracy: 0.5588 - val_loss: 0.8308 - val_accuracy: 0.5000\n",
            "Epoch 52/100\n",
            "2/2 [==============================] - 1s 680ms/step - loss: 0.8258 - accuracy: 0.6176 - val_loss: 0.7631 - val_accuracy: 0.5000\n",
            "Epoch 53/100\n",
            "2/2 [==============================] - 1s 94ms/step - loss: 0.7780 - accuracy: 0.6765 - val_loss: 0.9770 - val_accuracy: 0.7500\n",
            "Epoch 54/100\n",
            "2/2 [==============================] - 1s 95ms/step - loss: 0.6524 - accuracy: 0.7059 - val_loss: 2.1102 - val_accuracy: 0.7500\n",
            "Epoch 55/100\n",
            "2/2 [==============================] - 1s 657ms/step - loss: 0.4986 - accuracy: 0.8529 - val_loss: 4.7433 - val_accuracy: 0.5000\n",
            "Epoch 56/100\n",
            "2/2 [==============================] - 1s 680ms/step - loss: 0.5800 - accuracy: 0.7941 - val_loss: 5.2522 - val_accuracy: 0.5000\n",
            "Epoch 57/100\n",
            "2/2 [==============================] - 1s 102ms/step - loss: 0.4727 - accuracy: 0.8529 - val_loss: 2.1972 - val_accuracy: 0.5000\n",
            "Epoch 58/100\n",
            "2/2 [==============================] - 1s 95ms/step - loss: 1.2127 - accuracy: 0.8529 - val_loss: 1.5775 - val_accuracy: 0.7500\n",
            "Epoch 59/100\n",
            "2/2 [==============================] - 1s 92ms/step - loss: 0.4048 - accuracy: 0.8529 - val_loss: 1.8239 - val_accuracy: 0.7500\n",
            "Epoch 60/100\n",
            "2/2 [==============================] - 1s 651ms/step - loss: 0.4654 - accuracy: 0.8235 - val_loss: 2.2021 - val_accuracy: 0.5000\n",
            "Epoch 61/100\n",
            "2/2 [==============================] - 1s 652ms/step - loss: 0.5683 - accuracy: 0.8824 - val_loss: 2.0813 - val_accuracy: 0.5000\n"
          ]
        }
      ]
    },
    {
      "cell_type": "code",
      "source": [
        "Score=model.evaluate(training_set,verbose=0)\n",
        "print('Train Loss', Score[0])\n",
        "print('Train Accuracy', Score[1])"
      ],
      "metadata": {
        "id": "pN_4oLzk78UE",
        "colab": {
          "base_uri": "https://localhost:8080/"
        },
        "outputId": "cbdf55cb-3084-449f-f69b-2ec8078c26b6"
      },
      "execution_count": 11,
      "outputs": [
        {
          "output_type": "stream",
          "name": "stdout",
          "text": [
            "Train Loss 0.7084813714027405\n",
            "Train Accuracy 0.9117646813392639\n"
          ]
        }
      ]
    },
    {
      "cell_type": "code",
      "source": [
        "plt.plot(history.history['accuracy'])\n",
        "plt.plot(history.history['val_accuracy'])\n",
        "plt.title('Model Accuracy')\n",
        "plt.ylabel('Accuracy')\n",
        "plt.xlabel('Epochs')\n",
        "plt.legend(['Train','Validation'])\n",
        "plt.show"
      ],
      "metadata": {
        "id": "Icg90Ma38CMh",
        "colab": {
          "base_uri": "https://localhost:8080/",
          "height": 312
        },
        "outputId": "466a8b1e-0797-4ab2-e250-055966a43ed4"
      },
      "execution_count": 12,
      "outputs": [
        {
          "output_type": "execute_result",
          "data": {
            "text/plain": [
              "<function matplotlib.pyplot.show(*args, **kw)>"
            ]
          },
          "metadata": {},
          "execution_count": 12
        },
        {
          "output_type": "display_data",
          "data": {
            "text/plain": [
              "<Figure size 432x288 with 1 Axes>"
            ],
            "image/png": "[encoded data removed]"
          },
          "metadata": {
            "needs_background": "light"
          }
        }
      ]
    },
    {
      "cell_type": "code",
      "source": [
        "# Lưu lại\n",
        "model.save(\"/content/drive/MyDrive/Colab Notebooks/project cuối kỳ/phathiencacloainhaccucotruyenVN.h5\")"
      ],
      "metadata": {
        "id": "VG0sUhyb8D-G"
      },
      "execution_count": 13,
      "outputs": []
    },
    {
      "cell_type": "code",
      "source": [
        "model_nhaccu=load_model('/content/drive/MyDrive/Colab Notebooks/project cuối kỳ/phathiencacloainhaccucotruyenVN.h5')"
      ],
      "metadata": {
        "id": "Jbcrp6um9R-8"
      },
      "execution_count": 14,
      "outputs": []
    },
    {
      "cell_type": "code",
      "source": [
        "img = load_img('/content/drive/MyDrive/Colab Notebooks/project cuối kỳ/Test/tải xuống (8).jfif',target_size = (150,150))\n",
        "plt.imshow(img)\n",
        "img=img_to_array(img)\n",
        "img=img.astype('float32')\n",
        "img=img/255\n",
        "img=np.expand_dims(img,axis=0)\n",
        "result=model_nhaccu.predict(img)\n",
        "class_nhaccu=['Sáo trúc',\"Đàn T'Rưng\",'Đàn bầu','Đàn nguyệt','Đàn nhị','Đàn tranh','Đàn tỳ bà']\n",
        "a= int(np.argmax(model.predict(img),axis=1))\n",
        "print(\"Đây là nhạc cụ :\", class_nhaccu[a])"
      ],
      "metadata": {
        "id": "mqb0V9wD8MlY",
        "colab": {
          "base_uri": "https://localhost:8080/",
          "height": 321
        },
        "outputId": "cc6fd264-a90e-4b6e-ff6e-dbb5d34d055b"
      },
      "execution_count": 17,
      "outputs": [
        {
          "output_type": "stream",
          "name": "stdout",
          "text": [
            "1/1 [==============================] - 0s 23ms/step\n",
            "1/1 [==============================] - 0s 17ms/step\n",
            "Đây là nhạc cụ : Đàn tranh\n"
          ]
        },
        {
          "output_type": "display_data",
          "data": {
            "text/plain": [
              "<Figure size 432x288 with 1 Axes>"
            ],
            "image/png": "[encoded data removed]"
          },
          "metadata": {
            "needs_background": "light"
          }
        }
      ]
    },
    {
      "cell_type": "code",
      "source": [
        "#Tạo giao diện trong python\n",
        "import sys\n",
        "from tkinter import *\n",
        "from PIL import ImageTk, Image\n",
        "import tkinter as tk\n",
        "from tkinter import filedialog , ttk\n",
        "import cv2\n",
        "from threading import Thread\n",
        "import numpy as np\n",
        "import os\n",
        "from tensorflow.keras.models import load_model\n",
        "import matplotlib.pyplot as plt\n",
        "from tensorflow.keras.utils import load_img, img_to_array\n",
        "from keras.preprocessing.image import ImageDataGenerator\n",
        "root = tk.Tk()\n",
        "root.geometry('600x700')\n",
        "root.title(\"CÁC LOẠI NHẠC CỤ CỔ TRUYỀN VIỆT NAM\")\n",
        "class ImageConverter(tk.Frame):\n",
        "    def __init__(self, root):\n",
        "        super().__init__(root)\n",
        "        self.init_ui()\n",
        "    def init_ui(self):\n",
        "       self.pack()\n",
        "       self.lable = tk.Label(self, text='CÁC LOẠI NHẠC CỤ CỔ TRUYỀN VIỆT NAM', font= 'arial 20', bg=\"green\", fg= \"white\")\n",
        "       self.lable.pack()\n",
        "       self.openbtn = tk.Button(self, text='Select image',fg = \"black\", bg=\"white\",font= 'arial 14', command=self.open_image)\n",
        "       self.openbtn.pack()\n",
        "       #self.imageframe= tk.LabelFrame(self, text=' Image view')\n",
        "       #self.imageframe.pack()\n",
        "       self.lableimage= tk.Label(self,width=100,height=27)\n",
        "       self.lableimage.pack()\n",
        "       self.run1 = tk.Button(self, text='SEARCH',fg = \"white\", bg=\"dodgerblue\",font= 'arial 14',command=self.nhandien)\n",
        "       self.run1.pack()\n",
        "       self.openbtn1 = tk.Button(self, text='DELETE',fg = \"yellow\", bg=\"gray\",font= 'arial 14', command=self.clear)\n",
        "       self.openbtn1.pack()        \n",
        "    def nhandien(self):\n",
        "        model = load_model('D:/AI/NHẠC CỤ/phathiencacloainhaccucotruyenVN.h5')\n",
        "        img5 = load_img(self.filemane,target_size=(150,150))\n",
        "        plt.imshow(img5)\n",
        "        img5=img_to_array(img5)\n",
        "        img5=img5.astype('float32')\n",
        "        img5=img5/255\n",
        "        img5=np.expand_dims(img5,axis=0)\n",
        "        result=model.predict(img5)\n",
        "        class_nhaccu=['Sáo trúc',\"Đàn T'Rưng\",'Đàn bầu','Đàn nguyệt','Đàn nhị','Đàn tranh','Đàn tỳ bà']\n",
        "        a= int(np.argmax(model.predict(img5),axis=1))\n",
        "        print(\"Đây là loại nhạc cụ:\", class_nhaccu[a])\n",
        "        self.lable2= tk.Label(self, text=class_nhaccu[a], bg=\"orange\",fg='white',font= 'arial 14')\n",
        "        self.lable2.pack()\n",
        "    def clear(self):\n",
        "        self.lable2.destroy()\n",
        "    def open_image(self):\n",
        "        self.filemane = filedialog.askopenfilename()\n",
        "        self.img = Image.open(self.filemane)\n",
        "        self.x =int(self.img.size[0])\n",
        "        self.y =int(self.img.size[1])\n",
        "        self.img2 =self.img.resize((self.x,self.y))\n",
        "        self.imgtk= ImageTk.PhotoImage(self.img)\n",
        "        self.lableimage.config(image=self.imgtk, width= 300, height= 400)        \n",
        "gui = ImageConverter(root)\n",
        "root.mainloop()"
      ],
      "metadata": {
        "id": "L5vYuv-Cd0r-"
      },
      "execution_count": null,
      "outputs": []
    }
  ]
}